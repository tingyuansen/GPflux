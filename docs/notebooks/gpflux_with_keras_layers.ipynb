{
 "cells": [
  {
   "cell_type": "markdown",
   "id": "c04d175d",
   "metadata": {
    "cell_marker": "\"\"\""
   },
   "source": [
    "# Hybrid Deep GP models: combining GP and Neural Network layers\n",
    "\n",
    "In this notebook we show how to combine `gpflux.layers.GPLayer` layers with plain Keras neural network layers. This allows one to build hybrid deep GP models. Compared to the other tutorials, we are also going to use Keras's `Sequential` model to build our hierarchical model and use a `gpflux.losses.LikelihoodLoss` instead of a `gpflux.layers.LikelihoodLayer`."
   ]
  },
  {
   "cell_type": "code",
   "execution_count": 1,
   "id": "930eefdb",
   "metadata": {
    "execution": {
     "iopub.execute_input": "2021-04-12T14:38:50.912838Z",
     "iopub.status.busy": "2021-04-12T14:38:50.912246Z",
     "iopub.status.idle": "2021-04-12T14:38:53.326046Z",
     "shell.execute_reply": "2021-04-12T14:38:53.325011Z"
    }
   },
   "outputs": [],
   "source": [
    "import numpy as np\n",
    "import tensorflow as tf\n",
    "import matplotlib.pyplot as plt\n",
    "\n",
    "import gpflow\n",
    "import gpflux\n",
    "\n",
    "from gpflow.config import default_float\n",
    "\n",
    "tf.keras.backend.set_floatx(\"float64\")"
   ]
  },
  {
   "cell_type": "markdown",
   "id": "31b91435",
   "metadata": {
    "cell_marker": "\"\"\""
   },
   "source": [
    "## Load Snelson dataset\n",
    "\n",
    "We use a simple one-dimensional dataset to allow for easy plotting. To help training we normalize the input features."
   ]
  },
  {
   "cell_type": "code",
   "execution_count": 2,
   "id": "e25f3274",
   "metadata": {
    "execution": {
     "iopub.execute_input": "2021-04-12T14:38:53.332002Z",
     "iopub.status.busy": "2021-04-12T14:38:53.330495Z",
     "iopub.status.idle": "2021-04-12T14:38:53.336707Z",
     "shell.execute_reply": "2021-04-12T14:38:53.336229Z"
    }
   },
   "outputs": [],
   "source": [
    "d = np.load(\"../../tests/snelson1d.npz\")\n",
    "X, Y = data = d[\"X\"], d[\"Y\"]\n",
    "X = (X - X.mean()) / X.std()\n",
    "num_data, input_dim = X.shape"
   ]
  },
  {
   "cell_type": "markdown",
   "id": "7ca67b33",
   "metadata": {
    "cell_marker": "\"\"\""
   },
   "source": [
    "## Initialize the GP Layer\n",
    "\n",
    "As per usual we create a one-dimensional `gpflux.layers.GPLayer` with a simple `SquaredExponential` kernel and `InducingPoints` inducing variable:"
   ]
  },
  {
   "cell_type": "code",
   "execution_count": 3,
   "id": "883c86f0",
   "metadata": {
    "execution": {
     "iopub.execute_input": "2021-04-12T14:38:53.345455Z",
     "iopub.status.busy": "2021-04-12T14:38:53.344401Z",
     "iopub.status.idle": "2021-04-12T14:38:53.473586Z",
     "shell.execute_reply": "2021-04-12T14:38:53.472977Z"
    }
   },
   "outputs": [],
   "source": [
    "num_data = len(X)\n",
    "num_inducing = 10\n",
    "output_dim = Y.shape[1]\n",
    "\n",
    "kernel = gpflow.kernels.SquaredExponential()\n",
    "inducing_variable = gpflow.inducing_variables.InducingPoints(\n",
    "    np.linspace(X.min(), X.max(), num_inducing).reshape(-1, 1)\n",
    ")\n",
    "gp_layer = gpflux.layers.GPLayer(\n",
    "    kernel, inducing_variable, num_data=num_data, num_latent_gps=output_dim\n",
    ")"
   ]
  },
  {
   "cell_type": "markdown",
   "id": "050cb8c9",
   "metadata": {
    "cell_marker": "\"\"\""
   },
   "source": [
    "## Sequential Keras model with GP and Neural net layers\n",
    "\n",
    "We construct a model that consists of three `tf.keras.layers.Dense` layers and a GP. The first two Dense layers are configured to have 100 units and use a ReLU non-linearity. The last neural network layers reduces the dimension to one and does not utilise a non-linearity. We can interpret these three neural network layers as performing non-linear feature warping. The final layer in the model is the GP we defined above."
   ]
  },
  {
   "cell_type": "code",
   "execution_count": 4,
   "id": "fdf02b93",
   "metadata": {
    "execution": {
     "iopub.execute_input": "2021-04-12T14:38:53.482877Z",
     "iopub.status.busy": "2021-04-12T14:38:53.482175Z",
     "iopub.status.idle": "2021-04-12T14:38:53.518660Z",
     "shell.execute_reply": "2021-04-12T14:38:53.517498Z"
    }
   },
   "outputs": [],
   "source": [
    "likelihood = gpflow.likelihoods.Gaussian(0.001)\n",
    "\n",
    "# So that Keras can track the likelihood variance, we need to provide the likelihood as part of a \"dummy\" layer:\n",
    "likelihood_container = gpflux.layers.TrackableLayer()\n",
    "likelihood_container.likelihood = likelihood\n",
    "\n",
    "model = tf.keras.Sequential(\n",
    "    [\n",
    "        tf.keras.layers.Dense(100, activation=\"relu\"),\n",
    "        tf.keras.layers.Dense(100, activation=\"relu\"),\n",
    "        tf.keras.layers.Dense(1, activation=\"linear\"),\n",
    "        gp_layer,\n",
    "        likelihood_container,  # no-op, for discovering trainable likelihood parameters\n",
    "    ]\n",
    ")\n",
    "loss = gpflux.losses.LikelihoodLoss(likelihood)"
   ]
  },
  {
   "cell_type": "markdown",
   "id": "4155e40b",
   "metadata": {
    "cell_marker": "\"\"\""
   },
   "source": [
    "We compile our model by specifying the loss and the optimizer to use. After this is done, we fit the data and plot the trajectory of the loss:"
   ]
  },
  {
   "cell_type": "code",
   "execution_count": 5,
   "id": "a85d323e",
   "metadata": {
    "execution": {
     "iopub.execute_input": "2021-04-12T14:38:53.534435Z",
     "iopub.status.busy": "2021-04-12T14:38:53.533015Z",
     "iopub.status.idle": "2021-04-12T14:39:02.643910Z",
     "shell.execute_reply": "2021-04-12T14:39:02.643355Z"
    }
   },
   "outputs": [
    {
     "name": "stdout",
     "output_type": "stream",
     "text": [
      "WARNING:tensorflow:From /opt/hostedtoolcache/Python/3.7.10/x64/lib/python3.7/site-packages/tensorflow/python/ops/linalg/linear_operator_diag.py:175: calling LinearOperator.__init__ (from tensorflow.python.ops.linalg.linear_operator) with graph_parents is deprecated and will be removed in a future version.\n",
      "Instructions for updating:\n",
      "Do not pass `graph_parents`.  They will  no longer be used.\n"
     ]
    },
    {
     "data": {
      "text/plain": [
       "[<matplotlib.lines.Line2D at 0x7fa9b46bdd50>]"
      ]
     },
     "execution_count": 1,
     "metadata": {},
     "output_type": "execute_result"
    },
    {
     "data": {
      "image/png": "[encoded data removed]",
      "text/plain": [
       "<Figure size 432x288 with 1 Axes>"
      ]
     },
     "metadata": {
      "needs_background": "light"
     },
     "output_type": "display_data"
    }
   ],
   "source": [
    "model.compile(loss=loss, optimizer=\"adam\")\n",
    "hist = model.fit(X, Y, epochs=500, verbose=0)\n",
    "plt.plot(hist.history[\"loss\"])"
   ]
  },
  {
   "cell_type": "markdown",
   "id": "9b1b5167",
   "metadata": {
    "cell_marker": "\"\"\""
   },
   "source": [
    "We can now inspect the final model by plotting its predictions. Note that `model(X_test)` now returns the output of the final `GPLayer` and *not* a `LikelihoodLayer`. The output of a `GPLayer` is a TFP distribution with a `mean()` and `variance()`."
   ]
  },
  {
   "cell_type": "code",
   "execution_count": 6,
   "id": "a0dea9f5",
   "metadata": {
    "execution": {
     "iopub.execute_input": "2021-04-12T14:39:02.672679Z",
     "iopub.status.busy": "2021-04-12T14:39:02.667231Z",
     "iopub.status.idle": "2021-04-12T14:39:02.834446Z",
     "shell.execute_reply": "2021-04-12T14:39:02.833912Z"
    }
   },
   "outputs": [
    {
     "data": {
      "image/png": "[encoded data removed]",
      "text/plain": [
       "<Figure size 432x288 with 1 Axes>"
      ]
     },
     "metadata": {
      "needs_background": "light"
     },
     "output_type": "display_data"
    }
   ],
   "source": [
    "def plot(model, X, Y, ax=None):\n",
    "    if ax is None:\n",
    "        fig, ax = plt.subplots()\n",
    "\n",
    "    x_margin = 1.0\n",
    "    N_test = 100\n",
    "    X_test = np.linspace(X.min() - x_margin, X.max() + x_margin, N_test).reshape(-1, 1)\n",
    "    f_distribution = model(X_test)\n",
    "\n",
    "    mean = f_distribution.mean().numpy().squeeze()\n",
    "    var = f_distribution.variance().numpy().squeeze()\n",
    "    X_test = X_test.squeeze()\n",
    "    lower = mean - 2 * np.sqrt(var)\n",
    "    upper = mean + 2 * np.sqrt(var)\n",
    "\n",
    "    ax.set_ylim(Y.min() - 0.5, Y.max() + 0.5)\n",
    "    ax.plot(X, Y, \"kx\", alpha=0.5)\n",
    "    ax.plot(X_test, mean, \"C1\")\n",
    "\n",
    "    ax.fill_between(X_test, lower, upper, color=\"C1\", alpha=0.3)\n",
    "\n",
    "\n",
    "plot(model, X, Y)"
   ]
  }
 ],
 "metadata": {
  "jupytext": {
   "cell_markers": "\"\"\""
  },
  "kernelspec": {
   "display_name": "Python 3",
   "language": "python",
   "name": "python3"
  },
  "language_info": {
   "codemirror_mode": {
    "name": "ipython",
    "version": 3
   },
   "file_extension": ".py",
   "mimetype": "text/x-python",
   "name": "python",
   "nbconvert_exporter": "python",
   "pygments_lexer": "ipython3",
   "version": "3.7.10"
  }
 },
 "nbformat": 4,
 "nbformat_minor": 5
}
