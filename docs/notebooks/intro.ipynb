{
 "cells": [
  {
   "cell_type": "markdown",
   "id": "fe5f228a",
   "metadata": {
    "cell_marker": "\"\"\""
   },
   "source": [
    "# Introduction to GPflux\n",
    "\n",
    "In this notebook we cover the basics of Deep Gaussian processes (DGPs) <cite data-cite=\"damianou2013deep\"/> with GPflux. We assume that the reader is familiar with the concepts of Gaussian processes and Deep GPs (see <cite data-cite=\"rasmussen,gpflow2020\"/> for an in-depth overview)."
   ]
  },
  {
   "cell_type": "code",
   "execution_count": 1,
   "id": "3c2a17d4",
   "metadata": {
    "execution": {
     "iopub.execute_input": "2021-04-12T14:39:04.914319Z",
     "iopub.status.busy": "2021-04-12T14:39:04.913751Z",
     "iopub.status.idle": "2021-04-12T14:39:06.755336Z",
     "shell.execute_reply": "2021-04-12T14:39:06.754612Z"
    }
   },
   "outputs": [],
   "source": [
    "import matplotlib.pyplot as plt\n",
    "import numpy as np\n",
    "import pandas as pd\n",
    "import tensorflow as tf\n",
    "\n",
    "tf.keras.backend.set_floatx(\"float64\")\n",
    "tf.get_logger().setLevel(\"INFO\")"
   ]
  },
  {
   "cell_type": "markdown",
   "id": "94d32e76",
   "metadata": {
    "cell_marker": "\"\"\""
   },
   "source": [
    "## The motorcycle dataset\n",
    "\n",
    "We are going to model a one-dimensional dataset containing observations from a simulated motorcycle accident, used to test crash helmets \\[1\\]. The dataset has many interesting properties that we can use to showcase the power of DGPs as opposed to shallow (that is, single layer) GP models."
   ]
  },
  {
   "cell_type": "code",
   "execution_count": 2,
   "id": "88734789",
   "metadata": {
    "execution": {
     "iopub.execute_input": "2021-04-12T14:39:06.779927Z",
     "iopub.status.busy": "2021-04-12T14:39:06.761563Z",
     "iopub.status.idle": "2021-04-12T14:39:06.898784Z",
     "shell.execute_reply": "2021-04-12T14:39:06.899202Z"
    }
   },
   "outputs": [
    {
     "data": {
      "text/plain": [
       "Text(0, 0.5, 'Acceleration')"
      ]
     },
     "execution_count": 1,
     "metadata": {},
     "output_type": "execute_result"
    },
    {
     "data": {
      "image/png": "[encoded data removed]",
      "text/plain": [
       "<Figure size 432x288 with 1 Axes>"
      ]
     },
     "metadata": {
      "needs_background": "light"
     },
     "output_type": "display_data"
    }
   ],
   "source": [
    "def motorcycle_data():\n",
    "    \"\"\" Return inputs and outputs for the motorcycle dataset. We normalise the outputs. \"\"\"\n",
    "    df = pd.read_csv(\"./data/motor.csv\", index_col=0)\n",
    "    X, Y = df[\"times\"].values.reshape(-1, 1), df[\"accel\"].values.reshape(-1, 1)\n",
    "    Y = (Y - Y.mean()) / Y.std()\n",
    "    return X, Y\n",
    "\n",
    "\n",
    "X, Y = motorcycle_data()\n",
    "plt.plot(X, Y, \"kx\")\n",
    "plt.xlabel(\"time\")\n",
    "plt.ylabel(\"Acceleration\")"
   ]
  },
  {
   "cell_type": "markdown",
   "id": "51202459",
   "metadata": {
    "cell_marker": "\"\"\""
   },
   "source": [
    "## Single-layer GP\n",
    "\n",
    "We start this introduction by building a single-layer GP using GPflux. However, you'll notice that we rely a lot on [GPflow](www.github.com/GPflow/GPflow) objects to build our GPflux model. This is a conscious decision. GPflow contains well-tested and stable implementations of key GP building blocks, such as kernels, likelihoods, inducing variables, mean functions, and so on. By relying on GPflow for these elements, we can keep the GPflux code lean and focused on what is important for building deep GP models.  \n",
    "\n",
    "We are going to build a Sparse Variational Gaussian process (SVGP), for which we refer to <cite data-cite=\"gpflow2020\"/> or <cite data-cite=\"leibfried2020tutorial\"/> for an in-depth overview."
   ]
  },
  {
   "cell_type": "markdown",
   "id": "7a178b61",
   "metadata": {
    "cell_marker": "\"\"\""
   },
   "source": [
    "We start by importing `gpflow` and `gpflux`, and then create a kernel and inducing variable. Both are GPflow objects. We pass both objects to a `GPLayer` which will represent a single GP layer in our deep GP. We also need to specify the total number of datapoints and the number of outputs."
   ]
  },
  {
   "cell_type": "code",
   "execution_count": 3,
   "id": "24eac4f6",
   "metadata": {
    "execution": {
     "iopub.execute_input": "2021-04-12T14:39:06.905576Z",
     "iopub.status.busy": "2021-04-12T14:39:06.904709Z",
     "iopub.status.idle": "2021-04-12T14:39:07.618693Z",
     "shell.execute_reply": "2021-04-12T14:39:07.617652Z"
    }
   },
   "outputs": [],
   "source": [
    "import gpflow\n",
    "import gpflux\n",
    "\n",
    "num_data = len(X)\n",
    "num_inducing = 10\n",
    "output_dim = Y.shape[1]\n",
    "\n",
    "kernel = gpflow.kernels.SquaredExponential()\n",
    "inducing_variable = gpflow.inducing_variables.InducingPoints(\n",
    "    np.linspace(X.min(), X.max(), num_inducing).reshape(-1, 1)\n",
    ")\n",
    "gp_layer = gpflux.layers.GPLayer(\n",
    "    kernel, inducing_variable, num_data=num_data, num_latent_gps=output_dim\n",
    ")"
   ]
  },
  {
   "cell_type": "markdown",
   "id": "c5bd5216",
   "metadata": {
    "cell_marker": "\"\"\""
   },
   "source": [
    "We now create a `LikelihoodLayer` which encapsulates a `Likelihood` from GPflow. The likelihood layer is responsible for computing the variational expectation in the objective, and for dealing with our likelihood distribution $p(y | f)$. Other typical likelihoods are `Softmax`, `RobustMax`, and `Bernoulli`. Because we are dealing with the simple case of regression in this notebook, we use the `Gaussian` likelihood."
   ]
  },
  {
   "cell_type": "code",
   "execution_count": 4,
   "id": "fa2cc718",
   "metadata": {
    "execution": {
     "iopub.execute_input": "2021-04-12T14:39:07.624180Z",
     "iopub.status.busy": "2021-04-12T14:39:07.622881Z",
     "iopub.status.idle": "2021-04-12T14:39:07.638629Z",
     "shell.execute_reply": "2021-04-12T14:39:07.637697Z"
    }
   },
   "outputs": [],
   "source": [
    "likelihood_layer = gpflux.layers.LikelihoodLayer(gpflow.likelihoods.Gaussian(0.1))"
   ]
  },
  {
   "cell_type": "markdown",
   "id": "ae7362dc",
   "metadata": {
    "cell_marker": "\"\"\""
   },
   "source": [
    "We now pass our GP layer and likelihood layer into a GPflux `DeepGP` model. The `DeepGP` class is a specialisation of the Keras `Model` where we've added a few helper methods such as `predict_f`, `predict_y`, and `elbo`. By relying on Keras, we hope that  users will have an easy time familiarising themselves with the GPflux API. Our `DeepGP` model has the same public API calls: `fit`, `predict`, `evaluate`, and so on."
   ]
  },
  {
   "cell_type": "code",
   "execution_count": 5,
   "id": "8fe73a11",
   "metadata": {
    "execution": {
     "iopub.execute_input": "2021-04-12T14:39:07.666815Z",
     "iopub.status.busy": "2021-04-12T14:39:07.646033Z",
     "iopub.status.idle": "2021-04-12T14:39:08.509959Z",
     "shell.execute_reply": "2021-04-12T14:39:08.508953Z"
    }
   },
   "outputs": [
    {
     "name": "stdout",
     "output_type": "stream",
     "text": [
      "WARNING:tensorflow:From /opt/hostedtoolcache/Python/3.7.10/x64/lib/python3.7/site-packages/tensorflow/python/ops/linalg/linear_operator_diag.py:175: calling LinearOperator.__init__ (from tensorflow.python.ops.linalg.linear_operator) with graph_parents is deprecated and will be removed in a future version.\n",
      "Instructions for updating:\n",
      "Do not pass `graph_parents`.  They will  no longer be used.\n"
     ]
    }
   ],
   "source": [
    "single_layer_dgp = gpflux.models.DeepGP([gp_layer], likelihood_layer)\n",
    "model = single_layer_dgp.as_training_model()\n",
    "model.compile(tf.optimizers.Adam(0.01))"
   ]
  },
  {
   "cell_type": "markdown",
   "id": "9d4c0809",
   "metadata": {
    "cell_marker": "\"\"\""
   },
   "source": [
    "We train the model by calling `fit`. Keras handles minibatching the data, and keeps track of our loss during training."
   ]
  },
  {
   "cell_type": "code",
   "execution_count": 6,
   "id": "d093ba60",
   "metadata": {
    "execution": {
     "iopub.execute_input": "2021-04-12T14:39:08.516311Z",
     "iopub.status.busy": "2021-04-12T14:39:08.514373Z",
     "iopub.status.idle": "2021-04-12T14:39:16.198605Z",
     "shell.execute_reply": "2021-04-12T14:39:16.197299Z"
    }
   },
   "outputs": [
    {
     "data": {
      "text/plain": [
       "[<matplotlib.lines.Line2D at 0x7f13be7d1c10>]"
      ]
     },
     "execution_count": 1,
     "metadata": {},
     "output_type": "execute_result"
    },
    {
     "data": {
      "image/png": "[encoded data removed]",
      "text/plain": [
       "<Figure size 432x288 with 1 Axes>"
      ]
     },
     "metadata": {
      "needs_background": "light"
     },
     "output_type": "display_data"
    }
   ],
   "source": [
    "history = model.fit({\"inputs\": X, \"targets\": Y}, epochs=int(1e3), verbose=0)\n",
    "plt.plot(history.history[\"loss\"])"
   ]
  },
  {
   "cell_type": "markdown",
   "id": "0e88c4eb",
   "metadata": {
    "cell_marker": "\"\"\""
   },
   "source": [
    "We can now visualise the fit. We clearly see that a single layer GP with a simple stationary kernel has trouble fitting this dataset."
   ]
  },
  {
   "cell_type": "code",
   "execution_count": 7,
   "id": "140d0b02",
   "metadata": {
    "execution": {
     "iopub.execute_input": "2021-04-12T14:39:16.208445Z",
     "iopub.status.busy": "2021-04-12T14:39:16.206686Z",
     "iopub.status.idle": "2021-04-12T14:39:16.661330Z",
     "shell.execute_reply": "2021-04-12T14:39:16.660833Z"
    }
   },
   "outputs": [
    {
     "data": {
      "image/png": "[encoded data removed]",
      "text/plain": [
       "<Figure size 432x288 with 1 Axes>"
      ]
     },
     "metadata": {
      "needs_background": "light"
     },
     "output_type": "display_data"
    }
   ],
   "source": [
    "def plot(model, X, Y, ax=None):\n",
    "    if ax is None:\n",
    "        fig, ax = plt.subplots()\n",
    "\n",
    "    a = 1.0\n",
    "    N_test = 100\n",
    "    X_test = np.linspace(X.min() - a, X.max() + a, N_test).reshape(-1, 1)\n",
    "    out = model(X_test)\n",
    "\n",
    "    mu = out.f_mean.numpy().squeeze()\n",
    "    var = out.f_var.numpy().squeeze()\n",
    "    X_test = X_test.squeeze()\n",
    "    lower = mu - 2 * np.sqrt(var)\n",
    "    upper = mu + 2 * np.sqrt(var)\n",
    "\n",
    "    ax.set_ylim(Y.min() - 0.5, Y.max() + 0.5)\n",
    "    ax.plot(X, Y, \"kx\", alpha=0.5)\n",
    "    ax.plot(X_test, mu, \"C1\")\n",
    "\n",
    "    ax.fill_between(X_test, lower, upper, color=\"C1\", alpha=0.3)\n",
    "\n",
    "\n",
    "plot(single_layer_dgp.as_prediction_model(), X, Y)"
   ]
  },
  {
   "cell_type": "markdown",
   "id": "92059888",
   "metadata": {
    "cell_marker": "\"\"\""
   },
   "source": [
    "## Two-layer deep Gaussian process\n",
    "\n",
    "We repeat the exercise but now we build a two-layer model. The setup is very similar apart from the fact that we create two GP layers, and pass them to our `DeepGP` model as a list.\n",
    "We refer to <cite data-cite=\"salimbeni2017doubly\"/> for details on the deep GP model and variational stochastic inference method."
   ]
  },
  {
   "cell_type": "code",
   "execution_count": 8,
   "id": "5e8a09c4",
   "metadata": {
    "execution": {
     "iopub.execute_input": "2021-04-12T14:39:16.669525Z",
     "iopub.status.busy": "2021-04-12T14:39:16.668583Z",
     "iopub.status.idle": "2021-04-12T14:39:17.512670Z",
     "shell.execute_reply": "2021-04-12T14:39:17.512024Z"
    }
   },
   "outputs": [],
   "source": [
    "Z = np.linspace(X.min(), X.max(), num_inducing).reshape(-1, 1)\n",
    "kernel1 = gpflow.kernels.SquaredExponential()\n",
    "inducing_variable1 = gpflow.inducing_variables.InducingPoints(Z.copy())\n",
    "gp_layer1 = gpflux.layers.GPLayer(\n",
    "    kernel1, inducing_variable1, num_data=num_data, num_latent_gps=output_dim\n",
    ")\n",
    "\n",
    "kernel2 = gpflow.kernels.SquaredExponential()\n",
    "inducing_variable2 = gpflow.inducing_variables.InducingPoints(Z.copy())\n",
    "gp_layer2 = gpflux.layers.GPLayer(\n",
    "    kernel2,\n",
    "    inducing_variable2,\n",
    "    num_data=num_data,\n",
    "    num_latent_gps=output_dim,\n",
    "    mean_function=gpflow.mean_functions.Zero(),\n",
    ")\n",
    "\n",
    "likelihood_layer = gpflux.layers.LikelihoodLayer(gpflow.likelihoods.Gaussian(0.1))\n",
    "two_layer_dgp = gpflux.models.DeepGP([gp_layer1, gp_layer2], likelihood_layer)\n",
    "model = two_layer_dgp.as_training_model()\n",
    "model.compile(tf.optimizers.Adam(0.01))"
   ]
  },
  {
   "cell_type": "code",
   "execution_count": 9,
   "id": "55b3cea5",
   "metadata": {
    "execution": {
     "iopub.execute_input": "2021-04-12T14:39:17.519058Z",
     "iopub.status.busy": "2021-04-12T14:39:17.518477Z",
     "iopub.status.idle": "2021-04-12T14:39:26.895933Z",
     "shell.execute_reply": "2021-04-12T14:39:26.896414Z"
    }
   },
   "outputs": [],
   "source": [
    "history = model.fit({\"inputs\": X, \"targets\": Y}, epochs=int(1e3), verbose=0)"
   ]
  },
  {
   "cell_type": "code",
   "execution_count": 10,
   "id": "d6524033",
   "metadata": {
    "execution": {
     "iopub.execute_input": "2021-04-12T14:39:26.921401Z",
     "iopub.status.busy": "2021-04-12T14:39:26.917453Z",
     "iopub.status.idle": "2021-04-12T14:39:27.015884Z",
     "shell.execute_reply": "2021-04-12T14:39:27.015329Z"
    }
   },
   "outputs": [
    {
     "data": {
      "text/plain": [
       "[<matplotlib.lines.Line2D at 0x7f13bc0a2ad0>]"
      ]
     },
     "execution_count": 1,
     "metadata": {},
     "output_type": "execute_result"
    },
    {
     "data": {
      "image/png": "[encoded data removed]",
      "text/plain": [
       "<Figure size 432x288 with 1 Axes>"
      ]
     },
     "metadata": {
      "needs_background": "light"
     },
     "output_type": "display_data"
    }
   ],
   "source": [
    "plt.plot(history.history[\"loss\"])"
   ]
  },
  {
   "cell_type": "code",
   "execution_count": 11,
   "id": "3f67a4c4",
   "metadata": {
    "execution": {
     "iopub.execute_input": "2021-04-12T14:39:27.021394Z",
     "iopub.status.busy": "2021-04-12T14:39:27.020875Z",
     "iopub.status.idle": "2021-04-12T14:39:27.761555Z",
     "shell.execute_reply": "2021-04-12T14:39:27.762030Z"
    }
   },
   "outputs": [
    {
     "data": {
      "image/png": "[encoded data removed]",
      "text/plain": [
       "<Figure size 432x288 with 1 Axes>"
      ]
     },
     "metadata": {
      "needs_background": "light"
     },
     "output_type": "display_data"
    }
   ],
   "source": [
    "plot(two_layer_dgp.as_prediction_model(), X, Y)"
   ]
  },
  {
   "cell_type": "markdown",
   "id": "2b893641",
   "metadata": {
    "cell_marker": "\"\"\""
   },
   "source": [
    "From visual inspection we immediately notice that the two-layer model performs much better."
   ]
  },
  {
   "cell_type": "markdown",
   "id": "180bca46",
   "metadata": {
    "cell_marker": "\"\"\""
   },
   "source": [
    "## References\n",
    "\n",
    "[1] Silverman, B. W. (1985) \"Some aspects of the spline smoothing approach to non-parametric curve fitting\". _Journal of the Royal Statistical Society_ series B 47, 1-52."
   ]
  }
 ],
 "metadata": {
  "jupytext": {
   "cell_markers": "\"\"\""
  },
  "kernelspec": {
   "display_name": "Python 3",
   "language": "python",
   "name": "python3"
  },
  "language_info": {
   "codemirror_mode": {
    "name": "ipython",
    "version": 3
   },
   "file_extension": ".py",
   "mimetype": "text/x-python",
   "name": "python",
   "nbconvert_exporter": "python",
   "pygments_lexer": "ipython3",
   "version": "3.7.10"
  }
 },
 "nbformat": 4,
 "nbformat_minor": 5
}
