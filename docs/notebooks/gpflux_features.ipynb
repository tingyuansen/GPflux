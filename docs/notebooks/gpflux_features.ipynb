{
 "cells": [
  {
   "cell_type": "markdown",
   "id": "da26da95",
   "metadata": {
    "cell_marker": "\"\"\""
   },
   "source": [
    "# Why GPflux is a modern (deep) GP library\n",
    "\n",
    "In this notebook we go over some of the features that make GPflux a powerful, deep-learning-style GP library. We demonstrate the out-of-the-box support for monitoring during the course of optimisation, adapting the learning rate, and saving & serving (deep) GP models."
   ]
  },
  {
   "cell_type": "markdown",
   "id": "2b9f7ac0",
   "metadata": {
    "cell_marker": "\"\"\""
   },
   "source": [
    "## Setting up the dataset and model\n",
    "\n",
    "### Motorcycle: a toy one-dimensional dataset"
   ]
  },
  {
   "cell_type": "code",
   "execution_count": 1,
   "id": "917c3dfc",
   "metadata": {
    "execution": {
     "iopub.execute_input": "2021-04-12T14:38:21.286881Z",
     "iopub.status.busy": "2021-04-12T14:38:21.286328Z",
     "iopub.status.idle": "2021-04-12T14:38:23.125756Z",
     "shell.execute_reply": "2021-04-12T14:38:23.125104Z"
    }
   },
   "outputs": [],
   "source": [
    "import matplotlib.pyplot as plt\n",
    "import numpy as np\n",
    "import pandas as pd\n",
    "import tensorflow as tf\n",
    "\n",
    "tf.keras.backend.set_floatx(\"float64\")  # we want to carry out GP calculations in 64 bit\n",
    "tf.get_logger().setLevel(\"INFO\")"
   ]
  },
  {
   "cell_type": "code",
   "execution_count": 2,
   "id": "ab858f62",
   "metadata": {
    "execution": {
     "iopub.execute_input": "2021-04-12T14:38:23.148980Z",
     "iopub.status.busy": "2021-04-12T14:38:23.131898Z",
     "iopub.status.idle": "2021-04-12T14:38:23.265559Z",
     "shell.execute_reply": "2021-04-12T14:38:23.265054Z"
    }
   },
   "outputs": [
    {
     "data": {
      "text/plain": [
       "Text(0, 0.5, 'Acceleration')"
      ]
     },
     "execution_count": 1,
     "metadata": {},
     "output_type": "execute_result"
    },
    {
     "data": {
      "image/png": "[encoded data removed]",
      "text/plain": [
       "<Figure size 432x288 with 1 Axes>"
      ]
     },
     "metadata": {
      "needs_background": "light"
     },
     "output_type": "display_data"
    }
   ],
   "source": [
    "def motorcycle_data():\n",
    "    \"\"\"\n",
    "    The motorcycle dataset where the targets are normalised to zero mean and unit variance.\n",
    "    Returns a tuple of input features with shape [N, 1] and corresponding targets with shape [N, 1].\n",
    "    \"\"\"\n",
    "    df = pd.read_csv(\"./data/motor.csv\", index_col=0)\n",
    "    X, Y = df[\"times\"].values.reshape(-1, 1), df[\"accel\"].values.reshape(-1, 1)\n",
    "    Y = (Y - Y.mean()) / Y.std()\n",
    "    return X, Y\n",
    "\n",
    "\n",
    "X, Y = motorcycle_data()\n",
    "plt.plot(X, Y, \"kx\")\n",
    "plt.xlabel(\"time\")\n",
    "plt.ylabel(\"Acceleration\")"
   ]
  },
  {
   "cell_type": "markdown",
   "id": "628e589a",
   "metadata": {
    "cell_marker": "\"\"\""
   },
   "source": [
    "### Two-layer deep GP\n",
    "\n",
    "To keep this notebook focussed we are going to use a predefined deep GP architecture `gpflux.architectures.build_constant_input_dim_deep_gp` for creating our simple two-layer model."
   ]
  },
  {
   "cell_type": "code",
   "execution_count": 3,
   "id": "79ccbfdd",
   "metadata": {
    "execution": {
     "iopub.execute_input": "2021-04-12T14:38:23.270594Z",
     "iopub.status.busy": "2021-04-12T14:38:23.270051Z",
     "iopub.status.idle": "2021-04-12T14:38:24.078936Z",
     "shell.execute_reply": "2021-04-12T14:38:24.077999Z"
    }
   },
   "outputs": [],
   "source": [
    "import gpflux\n",
    "\n",
    "from gpflux.architectures import Config, build_constant_input_dim_deep_gp\n",
    "from gpflux.models import DeepGP\n",
    "\n",
    "config = Config(\n",
    "    num_inducing=25, inner_layer_qsqrt_factor=1e-5, likelihood_noise_variance=1e-2, whiten=True\n",
    ")\n",
    "deep_gp: DeepGP = build_constant_input_dim_deep_gp(X, num_layers=2, config=config)"
   ]
  },
  {
   "cell_type": "markdown",
   "id": "7d544298",
   "metadata": {
    "cell_marker": "\"\"\""
   },
   "source": [
    "## Training: mini-batching, callbacks, checkpoints and monitoring\n",
    "\n",
    "When training a model, GPflux takes care of minibatching the dataset and accepts a range of callbacks that make it very simple to, for example, modify the learning rate or monitor the optimisation. "
   ]
  },
  {
   "cell_type": "code",
   "execution_count": 4,
   "id": "d4db5f96",
   "metadata": {
    "execution": {
     "iopub.execute_input": "2021-04-12T14:38:24.127497Z",
     "iopub.status.busy": "2021-04-12T14:38:24.112043Z",
     "iopub.status.idle": "2021-04-12T14:38:44.334484Z",
     "shell.execute_reply": "2021-04-12T14:38:44.333489Z"
    }
   },
   "outputs": [
    {
     "name": "stdout",
     "output_type": "stream",
     "text": [
      "WARNING:tensorflow:From /opt/hostedtoolcache/Python/3.7.10/x64/lib/python3.7/site-packages/tensorflow/python/ops/linalg/linear_operator_diag.py:175: calling LinearOperator.__init__ (from tensorflow.python.ops.linalg.linear_operator) with graph_parents is deprecated and will be removed in a future version.\n",
      "Instructions for updating:\n",
      "Do not pass `graph_parents`.  They will  no longer be used.\n"
     ]
    },
    {
     "name": "stdout",
     "output_type": "stream",
     "text": [
      "WARNING:tensorflow:Model failed to serialize as JSON. Ignoring... Cannot pickle Tensor -- its value is not known statically: Tensor(\"gp_0/Identity_2:0\", shape=(), dtype=float64).\n"
     ]
    }
   ],
   "source": [
    "# From the `DeepGP` model we instantiate a training model which is a `tf.keras.Model`\n",
    "training_model: tf.keras.Model = deep_gp.as_training_model()\n",
    "\n",
    "# Following the Keras procedure we need to compile and pass a optimizer,\n",
    "# before fitting the model to data\n",
    "training_model.compile(optimizer=tf.optimizers.Adam(learning_rate=0.01))\n",
    "\n",
    "callbacks = [\n",
    "    # Create callback that reduces the learning rate every time the ELBO plateaus\n",
    "    tf.keras.callbacks.ReduceLROnPlateau(\"loss\", factor=0.95, patience=3, min_lr=1e-6, verbose=0),\n",
    "    # Create a callback that writes logs (e.g., hyperparameters, KLs, etc.) to TensorBoard\n",
    "    gpflux.callbacks.TensorBoard(),\n",
    "    # Create a callback that saves the model's weights\n",
    "    tf.keras.callbacks.ModelCheckpoint(filepath=\"ckpts/\", save_weights_only=True, verbose=0),\n",
    "]\n",
    "\n",
    "history = training_model.fit(\n",
    "    {\"inputs\": X, \"targets\": Y},\n",
    "    batch_size=12,\n",
    "    epochs=200,\n",
    "    callbacks=callbacks,\n",
    "    verbose=0,\n",
    ")"
   ]
  },
  {
   "cell_type": "markdown",
   "id": "a76f6259",
   "metadata": {
    "cell_marker": "\"\"\""
   },
   "source": [
    "The call to fit() returns a `history` object that contains information like the loss and the learning rate over the course of optimisation."
   ]
  },
  {
   "cell_type": "code",
   "execution_count": 5,
   "id": "5ac4e7ed",
   "metadata": {
    "execution": {
     "iopub.execute_input": "2021-04-12T14:38:44.354533Z",
     "iopub.status.busy": "2021-04-12T14:38:44.351764Z",
     "iopub.status.idle": "2021-04-12T14:38:44.588962Z",
     "shell.execute_reply": "2021-04-12T14:38:44.588457Z"
    }
   },
   "outputs": [
    {
     "data": {
      "text/plain": [
       "Text(0, 0.5, 'Learning rate')"
      ]
     },
     "execution_count": 1,
     "metadata": {},
     "output_type": "execute_result"
    },
    {
     "data": {
      "image/png": "[encoded data removed]",
      "text/plain": [
       "<Figure size 864x216 with 2 Axes>"
      ]
     },
     "metadata": {
      "needs_background": "light"
     },
     "output_type": "display_data"
    }
   ],
   "source": [
    "fig, (ax1, ax2) = plt.subplots(1, 2, figsize=(12, 3))\n",
    "ax1.plot(history.history[\"loss\"])\n",
    "ax1.set_xlabel(\"Iteration\")\n",
    "ax1.set_ylabel(\"Objective = neg. ELBO\")\n",
    "\n",
    "ax2.plot(history.history[\"lr\"])\n",
    "ax2.set_xlabel(\"Iteration\")\n",
    "ax2.set_ylabel(\"Learning rate\")"
   ]
  },
  {
   "cell_type": "markdown",
   "id": "69895155",
   "metadata": {
    "cell_marker": "\"\"\""
   },
   "source": [
    "More insightful, however, are the TensorBoard logs. They contain the objective and hyperparameters over the course of optimisation. This can be very handy to find out why things work or don't :D. The logs can be viewed in TensorBoard by running in the command line\n",
    "```\n",
    "$ tensorboard --logdir logs\n",
    "```"
   ]
  },
  {
   "cell_type": "code",
   "execution_count": 6,
   "id": "78fc1b96",
   "metadata": {
    "execution": {
     "iopub.execute_input": "2021-04-12T14:38:44.599096Z",
     "iopub.status.busy": "2021-04-12T14:38:44.597148Z",
     "iopub.status.idle": "2021-04-12T14:38:45.448466Z",
     "shell.execute_reply": "2021-04-12T14:38:45.447933Z"
    }
   },
   "outputs": [
    {
     "data": {
      "image/png": "[encoded data removed]",
      "text/plain": [
       "<Figure size 432x288 with 1 Axes>"
      ]
     },
     "metadata": {
      "needs_background": "light"
     },
     "output_type": "display_data"
    }
   ],
   "source": [
    "def plot(model, X, Y, ax=None):\n",
    "    if ax is None:\n",
    "        fig, ax = plt.subplots()\n",
    "\n",
    "    x_margin = 1.0\n",
    "    N_test = 100\n",
    "    X_test = np.linspace(X.min() - x_margin, X.max() + x_margin, N_test).reshape(-1, 1)\n",
    "    out = model(X_test)\n",
    "\n",
    "    mu = out.f_mean.numpy().squeeze()\n",
    "    var = out.f_var.numpy().squeeze()\n",
    "    X_test = X_test.squeeze()\n",
    "    lower = mu - 2 * np.sqrt(var)\n",
    "    upper = mu + 2 * np.sqrt(var)\n",
    "\n",
    "    ax.set_ylim(Y.min() - 0.5, Y.max() + 0.5)\n",
    "    ax.plot(X, Y, \"kx\", alpha=0.5)\n",
    "    ax.plot(X_test, mu, \"C1\")\n",
    "\n",
    "    ax.fill_between(X_test, lower, upper, color=\"C1\", alpha=0.3)\n",
    "\n",
    "\n",
    "prediction_model = deep_gp.as_prediction_model()\n",
    "plot(prediction_model, X, Y)"
   ]
  },
  {
   "cell_type": "markdown",
   "id": "acf90c02",
   "metadata": {
    "cell_marker": "\"\"\""
   },
   "source": [
    "## Post-training: saving, loading, and serving the model\n",
    "\n",
    "We can store the weights and reload them afterwards."
   ]
  },
  {
   "cell_type": "code",
   "execution_count": 7,
   "id": "ff130b71",
   "metadata": {
    "execution": {
     "iopub.execute_input": "2021-04-12T14:38:45.483824Z",
     "iopub.status.busy": "2021-04-12T14:38:45.482248Z",
     "iopub.status.idle": "2021-04-12T14:38:45.491130Z",
     "shell.execute_reply": "2021-04-12T14:38:45.490041Z"
    }
   },
   "outputs": [],
   "source": [
    "prediction_model.save_weights(\"weights\")"
   ]
  },
  {
   "cell_type": "code",
   "execution_count": 8,
   "id": "2e8fde77",
   "metadata": {
    "execution": {
     "iopub.execute_input": "2021-04-12T14:38:45.497787Z",
     "iopub.status.busy": "2021-04-12T14:38:45.496619Z",
     "iopub.status.idle": "2021-04-12T14:38:46.393787Z",
     "shell.execute_reply": "2021-04-12T14:38:46.393278Z"
    }
   },
   "outputs": [
    {
     "data": {
      "text/plain": [
       "<tensorflow.python.training.tracking.util.CheckpointLoadStatus at 0x7f8c511a0490>"
      ]
     },
     "execution_count": 1,
     "metadata": {},
     "output_type": "execute_result"
    }
   ],
   "source": [
    "prediction_model_new = build_constant_input_dim_deep_gp(\n",
    "    X, num_layers=2, config=config\n",
    ").as_prediction_model()\n",
    "prediction_model_new.load_weights(\"weights\")"
   ]
  },
  {
   "cell_type": "code",
   "execution_count": 9,
   "id": "bc06b08c",
   "metadata": {
    "execution": {
     "iopub.execute_input": "2021-04-12T14:38:46.418757Z",
     "iopub.status.busy": "2021-04-12T14:38:46.417578Z",
     "iopub.status.idle": "2021-04-12T14:38:46.589858Z",
     "shell.execute_reply": "2021-04-12T14:38:46.589358Z"
    }
   },
   "outputs": [
    {
     "data": {
      "image/png": "[encoded data removed]",
      "text/plain": [
       "<Figure size 432x288 with 1 Axes>"
      ]
     },
     "metadata": {
      "needs_background": "light"
     },
     "output_type": "display_data"
    }
   ],
   "source": [
    "plot(prediction_model_new, X, Y)"
   ]
  },
  {
   "cell_type": "markdown",
   "id": "c641e7bc",
   "metadata": {
    "cell_marker": "\"\"\""
   },
   "source": [
    "Indeed, this prediction corresponds to the one of the original model."
   ]
  }
 ],
 "metadata": {
  "jupytext": {
   "cell_markers": "\"\"\""
  },
  "kernelspec": {
   "display_name": "Python 3",
   "language": "python",
   "name": "python3"
  },
  "language_info": {
   "codemirror_mode": {
    "name": "ipython",
    "version": 3
   },
   "file_extension": ".py",
   "mimetype": "text/x-python",
   "name": "python",
   "nbconvert_exporter": "python",
   "pygments_lexer": "ipython3",
   "version": "3.7.10"
  }
 },
 "nbformat": 4,
 "nbformat_minor": 5
}
