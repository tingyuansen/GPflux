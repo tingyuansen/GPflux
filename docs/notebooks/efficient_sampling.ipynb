{
 "cells": [
  {
   "cell_type": "markdown",
   "id": "b9a2d316",
   "metadata": {
    "cell_marker": "\"\"\"",
    "lines_to_next_cell": 0
   },
   "source": [
    "# Efficient sampling with Gaussian processes and Random Fourier Features\n",
    "\n",
    "Gaussian processes (GPs) provide a mathematically elegant framework for learning unknown functions from data. They are robust to overfitting, allow to incorporate prior assumptions into the model and provide calibrated uncertainty estimates for their predictions. This makes them prime candidates in settings where data is scarce, noisy or very costly to obtain, and are natural tools in applications such as Bayesian optimisation (BO).\n",
    "\n",
    "Despite their favorable properties, the use of GPs still has practical limitations. One of them is the computational complexity to draw predictive samples from the model, which quickly becomes prohibitive as the sample size grows, and creates a well-known bottleneck for GP-based Thompson sampling (GP-TS) for instance. \n",
    "Recent work <cite data-cite=\"wilson2020efficiently\"/> proposes to combine GP’s weight-space and function-space views to draw samples more efficiently from (approximate) posterior GPs with encouraging results in low-dimensional regimes.\n",
    "\n",
    "In GPflux, this functionality is unlocked by grouping a kernel (e.g., `gpflow.kernels.Matern52`) with its feature decomposition using `gpflux.sampling.KernelWithFeatureDecomposition`. See the notebooks on [weight space approximation](weight_space_approximation.ipynb) and [efficient posterior sampling](efficient_posterior_sampling.ipynb) for a thorough explanation."
   ]
  },
  {
   "cell_type": "code",
   "execution_count": 1,
   "id": "5d111334",
   "metadata": {
    "execution": {
     "iopub.execute_input": "2021-04-12T14:38:10.825078Z",
     "iopub.status.busy": "2021-04-12T14:38:10.824524Z",
     "iopub.status.idle": "2021-04-12T14:38:13.203315Z",
     "shell.execute_reply": "2021-04-12T14:38:13.202610Z"
    }
   },
   "outputs": [],
   "source": [
    "import numpy as np\n",
    "import tensorflow as tf\n",
    "import matplotlib.pyplot as plt\n",
    "\n",
    "import gpflow\n",
    "import gpflux\n",
    "\n",
    "from gpflow.config import default_float\n",
    "\n",
    "from gpflux.layers.basis_functions.random_fourier_features import RandomFourierFeatures\n",
    "from gpflux.sampling import KernelWithFeatureDecomposition\n",
    "from gpflux.models.deep_gp import sample_dgp\n",
    "\n",
    "tf.keras.backend.set_floatx(\"float64\")"
   ]
  },
  {
   "cell_type": "markdown",
   "id": "021a4c40",
   "metadata": {
    "cell_marker": "\"\"\""
   },
   "source": [
    "# Load Snelson dataset"
   ]
  },
  {
   "cell_type": "code",
   "execution_count": 2,
   "id": "a136e5c2",
   "metadata": {
    "execution": {
     "iopub.execute_input": "2021-04-12T14:38:13.207348Z",
     "iopub.status.busy": "2021-04-12T14:38:13.206892Z",
     "iopub.status.idle": "2021-04-12T14:38:13.211377Z",
     "shell.execute_reply": "2021-04-12T14:38:13.210512Z"
    }
   },
   "outputs": [],
   "source": [
    "d = np.load(\"../../tests/snelson1d.npz\")\n",
    "X, Y = data = d[\"X\"], d[\"Y\"]\n",
    "num_data, input_dim = X.shape"
   ]
  },
  {
   "cell_type": "markdown",
   "id": "245462be",
   "metadata": {},
   "source": [
    "r\"\"\"\n",
    "Setting up the kernel and its feature decomposition\n",
    "\n",
    "The `KernelWithFeatureDecomposition` instance represents a kernel together with its finite feature decomposition,\n",
    "$$\n",
    "k(x, x') = \\sum_{i=0}^L \\lambda_i \\phi_i(x) \\phi_i(x'),\n",
    "$$\n",
    "where $\\lambda_i$ and $\\phi_i(\\cdot)$ are the coefficients (eigenvalues) and features (eigenfunctions), respectively, and $L$ is the finite cutoff. See [the notebook on weight space approximation](weight_space_approximation.ipynb) for a detailed explanation of how to construct this decomposition using Random Fourier Features (RFF).\n",
    "\"\"\""
   ]
  },
  {
   "cell_type": "code",
   "execution_count": 3,
   "id": "2f646458",
   "metadata": {
    "execution": {
     "iopub.execute_input": "2021-04-12T14:38:13.220203Z",
     "iopub.status.busy": "2021-04-12T14:38:13.219610Z",
     "iopub.status.idle": "2021-04-12T14:38:13.238111Z",
     "shell.execute_reply": "2021-04-12T14:38:13.238559Z"
    }
   },
   "outputs": [],
   "source": [
    "kernel = gpflow.kernels.Matern52()\n",
    "Z = np.linspace(X.min(), X.max(), 10).reshape(-1, 1).astype(np.float64)\n",
    "\n",
    "inducing_variable = gpflow.inducing_variables.InducingPoints(Z)\n",
    "gpflow.utilities.set_trainable(inducing_variable, False)\n",
    "\n",
    "num_rff = 1000\n",
    "eigenfunctions = RandomFourierFeatures(kernel, num_rff, dtype=default_float())\n",
    "eigenvalues = np.ones((num_rff, 1), dtype=default_float())\n",
    "kernel_with_features = KernelWithFeatureDecomposition(kernel, eigenfunctions, eigenvalues)"
   ]
  },
  {
   "cell_type": "markdown",
   "id": "c52e9d7c",
   "metadata": {
    "cell_marker": "\"\"\"",
    "lines_to_next_cell": 0
   },
   "source": [
    "# Building and training the single-layer GP\n",
    "\n",
    "## Initialise the single-layer GP\n",
    "Because `KernelWithFeatureDecomposition` is just a `gpflow.kernels.Kernel`, we can construct a GP layer with it."
   ]
  },
  {
   "cell_type": "code",
   "execution_count": 4,
   "id": "866c9ac5",
   "metadata": {
    "execution": {
     "iopub.execute_input": "2021-04-12T14:38:13.244498Z",
     "iopub.status.busy": "2021-04-12T14:38:13.243966Z",
     "iopub.status.idle": "2021-04-12T14:38:14.047034Z",
     "shell.execute_reply": "2021-04-12T14:38:14.047839Z"
    },
    "lines_to_next_cell": 0
   },
   "outputs": [
    {
     "name": "stdout",
     "output_type": "stream",
     "text": [
      "WARNING:tensorflow:From /opt/hostedtoolcache/Python/3.7.10/x64/lib/python3.7/site-packages/tensorflow/python/ops/linalg/linear_operator_diag.py:175: calling LinearOperator.__init__ (from tensorflow.python.ops.linalg.linear_operator) with graph_parents is deprecated and will be removed in a future version.\n",
      "Instructions for updating:\n",
      "Do not pass `graph_parents`.  They will  no longer be used.\n"
     ]
    }
   ],
   "source": [
    "layer = gpflux.layers.GPLayer(\n",
    "    kernel_with_features,\n",
    "    inducing_variable,\n",
    "    num_data,\n",
    "    whiten=False,\n",
    "    num_latent_gps=1,\n",
    "    mean_function=gpflow.mean_functions.Zero(),\n",
    ")\n",
    "likelihood_layer = gpflux.layers.LikelihoodLayer(gpflow.likelihoods.Gaussian())  # noqa: E231\n",
    "dgp = gpflux.models.DeepGP([layer], likelihood_layer)\n",
    "model = dgp.as_training_model()"
   ]
  },
  {
   "cell_type": "markdown",
   "id": "78531d02",
   "metadata": {
    "cell_marker": "\"\"\""
   },
   "source": [
    "## Fit model to data"
   ]
  },
  {
   "cell_type": "code",
   "execution_count": 5,
   "id": "81023ca2",
   "metadata": {
    "execution": {
     "iopub.execute_input": "2021-04-12T14:38:14.066861Z",
     "iopub.status.busy": "2021-04-12T14:38:14.060875Z",
     "iopub.status.idle": "2021-04-12T14:38:18.392967Z",
     "shell.execute_reply": "2021-04-12T14:38:18.392388Z"
    },
    "lines_to_next_cell": 0
   },
   "outputs": [],
   "source": [
    "model.compile(tf.optimizers.Adam(learning_rate=0.1))\n",
    "\n",
    "callbacks = [\n",
    "    tf.keras.callbacks.ReduceLROnPlateau(\n",
    "        monitor=\"loss\",\n",
    "        patience=5,\n",
    "        factor=0.95,\n",
    "        verbose=0,\n",
    "        min_lr=1e-6,\n",
    "    )\n",
    "]\n",
    "\n",
    "history = model.fit(\n",
    "    {\"inputs\": X, \"targets\": Y},\n",
    "    batch_size=num_data,\n",
    "    epochs=100,\n",
    "    callbacks=callbacks,\n",
    "    verbose=0,\n",
    ")"
   ]
  },
  {
   "cell_type": "markdown",
   "id": "ae740752",
   "metadata": {
    "cell_marker": "\"\"\""
   },
   "source": [
    "# Drawing samples\n",
    "\n",
    "Now that the model is trained we can draw efficient and consistent samples from the posterior GP. By \"consistent\" we mean that the `sample_dgp` function returns a function object that can be evaluated multiple times at different locations, but importantly, the returned function values will come from the same GP sample. This functionality is implemented by the `gpflux.sampling.efficient_sample` function."
   ]
  },
  {
   "cell_type": "code",
   "execution_count": 6,
   "id": "ab1a6496",
   "metadata": {
    "execution": {
     "iopub.execute_input": "2021-04-12T14:38:18.402352Z",
     "iopub.status.busy": "2021-04-12T14:38:18.401064Z",
     "iopub.status.idle": "2021-04-12T14:38:18.974259Z",
     "shell.execute_reply": "2021-04-12T14:38:18.973484Z"
    }
   },
   "outputs": [
    {
     "data": {
      "image/png": "[encoded data removed]",
      "text/plain": [
       "<Figure size 432x288 with 1 Axes>"
      ]
     },
     "metadata": {
      "needs_background": "light"
     },
     "output_type": "display_data"
    }
   ],
   "source": [
    "from typing import Callable\n",
    "\n",
    "x_margin = 5\n",
    "n_x = 1000\n",
    "X_test = np.linspace(X.min() - x_margin, X.max() + x_margin, n_x).reshape(-1, 1)\n",
    "\n",
    "f_mean, f_var = dgp.predict_f(X_test)\n",
    "f_scale = np.sqrt(f_var)\n",
    "\n",
    "# Plot samples\n",
    "n_sim = 10\n",
    "for _ in range(n_sim):\n",
    "    # `sample_dgp` returns a callable - which we subsequently evaluate\n",
    "    f_sample: Callable[[tf.Tensor], tf.Tensor] = sample_dgp(dgp)\n",
    "    plt.plot(X_test, f_sample(X_test).numpy())\n",
    "\n",
    "# Plot GP mean and uncertainty intervals and data\n",
    "plt.plot(X_test, f_mean, \"C0\")\n",
    "plt.plot(X_test, f_mean + f_scale, \"C0--\")\n",
    "plt.plot(X_test, f_mean - f_scale, \"C0--\")\n",
    "plt.plot(X, Y, \"kx\", alpha=0.2)\n",
    "plt.xlim(X.min() - x_margin, X.max() + x_margin)\n",
    "plt.ylim(Y.min() - x_margin, Y.max() + x_margin)\n",
    "plt.show()"
   ]
  }
 ],
 "metadata": {
  "jupytext": {
   "cell_markers": "\"\"\"",
   "encoding": "# -*- coding: utf-8 -*-",
   "formats": "ipynb,py:percent"
  },
  "kernelspec": {
   "display_name": "Python 3",
   "language": "python",
   "name": "python3"
  },
  "language_info": {
   "codemirror_mode": {
    "name": "ipython",
    "version": 3
   },
   "file_extension": ".py",
   "mimetype": "text/x-python",
   "name": "python",
   "nbconvert_exporter": "python",
   "pygments_lexer": "ipython3",
   "version": "3.7.10"
  }
 },
 "nbformat": 4,
 "nbformat_minor": 5
}
